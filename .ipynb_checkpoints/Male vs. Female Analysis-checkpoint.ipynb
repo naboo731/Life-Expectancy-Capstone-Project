{
 "cells": [
  {
   "cell_type": "code",
   "execution_count": 60,
   "id": "041b6596",
   "metadata": {},
   "outputs": [],
   "source": [
    "import numpy as np\n",
    "import pandas as pd\n",
    "import seaborn as sns\n",
    "import plotly.express as px\n",
    "import matplotlib.pyplot as plt\n",
    "import plotly.graph_objects as go"
   ]
  },
  {
   "cell_type": "code",
   "execution_count": 18,
   "id": "f2028d81",
   "metadata": {},
   "outputs": [
    {
     "data": {
      "text/html": [
       "<div>\n",
       "<style scoped>\n",
       "    .dataframe tbody tr th:only-of-type {\n",
       "        vertical-align: middle;\n",
       "    }\n",
       "\n",
       "    .dataframe tbody tr th {\n",
       "        vertical-align: top;\n",
       "    }\n",
       "\n",
       "    .dataframe thead th {\n",
       "        text-align: right;\n",
       "    }\n",
       "</style>\n",
       "<table border=\"1\" class=\"dataframe\">\n",
       "  <thead>\n",
       "    <tr style=\"text-align: right;\">\n",
       "      <th></th>\n",
       "      <th>Unnamed: 0</th>\n",
       "      <th>name</th>\n",
       "      <th>longitude</th>\n",
       "      <th>latitude</th>\n",
       "      <th>continent</th>\n",
       "      <th>pop_est</th>\n",
       "      <th>year</th>\n",
       "      <th>Avg Life Expectancy</th>\n",
       "    </tr>\n",
       "  </thead>\n",
       "  <tbody>\n",
       "    <tr>\n",
       "      <th>0</th>\n",
       "      <td>1</td>\n",
       "      <td>Fiji</td>\n",
       "      <td>179.414413</td>\n",
       "      <td>-16.578193</td>\n",
       "      <td>Oceania</td>\n",
       "      <td>920938</td>\n",
       "      <td>1960</td>\n",
       "      <td>62.369</td>\n",
       "    </tr>\n",
       "    <tr>\n",
       "      <th>1</th>\n",
       "      <td>2</td>\n",
       "      <td>Fiji</td>\n",
       "      <td>179.414413</td>\n",
       "      <td>-16.578193</td>\n",
       "      <td>Oceania</td>\n",
       "      <td>920938</td>\n",
       "      <td>1961</td>\n",
       "      <td>62.859</td>\n",
       "    </tr>\n",
       "    <tr>\n",
       "      <th>2</th>\n",
       "      <td>3</td>\n",
       "      <td>Fiji</td>\n",
       "      <td>179.414413</td>\n",
       "      <td>-16.578193</td>\n",
       "      <td>Oceania</td>\n",
       "      <td>920938</td>\n",
       "      <td>1962</td>\n",
       "      <td>63.283</td>\n",
       "    </tr>\n",
       "    <tr>\n",
       "      <th>3</th>\n",
       "      <td>4</td>\n",
       "      <td>Fiji</td>\n",
       "      <td>179.414413</td>\n",
       "      <td>-16.578193</td>\n",
       "      <td>Oceania</td>\n",
       "      <td>920938</td>\n",
       "      <td>1963</td>\n",
       "      <td>63.646</td>\n",
       "    </tr>\n",
       "    <tr>\n",
       "      <th>4</th>\n",
       "      <td>5</td>\n",
       "      <td>Fiji</td>\n",
       "      <td>179.414413</td>\n",
       "      <td>-16.578193</td>\n",
       "      <td>Oceania</td>\n",
       "      <td>920938</td>\n",
       "      <td>1964</td>\n",
       "      <td>63.957</td>\n",
       "    </tr>\n",
       "  </tbody>\n",
       "</table>\n",
       "</div>"
      ],
      "text/plain": [
       "   Unnamed: 0  name   longitude   latitude continent  pop_est  year  \\\n",
       "0           1  Fiji  179.414413 -16.578193   Oceania   920938  1960   \n",
       "1           2  Fiji  179.414413 -16.578193   Oceania   920938  1961   \n",
       "2           3  Fiji  179.414413 -16.578193   Oceania   920938  1962   \n",
       "3           4  Fiji  179.414413 -16.578193   Oceania   920938  1963   \n",
       "4           5  Fiji  179.414413 -16.578193   Oceania   920938  1964   \n",
       "\n",
       "   Avg Life Expectancy  \n",
       "0               62.369  \n",
       "1               62.859  \n",
       "2               63.283  \n",
       "3               63.646  \n",
       "4               63.957  "
      ]
     },
     "execution_count": 18,
     "metadata": {},
     "output_type": "execute_result"
    }
   ],
   "source": [
    "female = pd.read_csv('complete_female.csv')\n",
    "female.head()"
   ]
  },
  {
   "cell_type": "code",
   "execution_count": 19,
   "id": "3fdb79c7",
   "metadata": {},
   "outputs": [
    {
     "data": {
      "text/html": [
       "<div>\n",
       "<style scoped>\n",
       "    .dataframe tbody tr th:only-of-type {\n",
       "        vertical-align: middle;\n",
       "    }\n",
       "\n",
       "    .dataframe tbody tr th {\n",
       "        vertical-align: top;\n",
       "    }\n",
       "\n",
       "    .dataframe thead th {\n",
       "        text-align: right;\n",
       "    }\n",
       "</style>\n",
       "<table border=\"1\" class=\"dataframe\">\n",
       "  <thead>\n",
       "    <tr style=\"text-align: right;\">\n",
       "      <th></th>\n",
       "      <th>Unnamed: 0</th>\n",
       "      <th>name</th>\n",
       "      <th>longitude</th>\n",
       "      <th>latitude</th>\n",
       "      <th>continent</th>\n",
       "      <th>pop_est</th>\n",
       "      <th>year</th>\n",
       "      <th>Avg Life Expectancy</th>\n",
       "    </tr>\n",
       "  </thead>\n",
       "  <tbody>\n",
       "    <tr>\n",
       "      <th>0</th>\n",
       "      <td>1</td>\n",
       "      <td>Fiji</td>\n",
       "      <td>179.414413</td>\n",
       "      <td>-16.578193</td>\n",
       "      <td>Oceania</td>\n",
       "      <td>920938</td>\n",
       "      <td>1960</td>\n",
       "      <td>59.641</td>\n",
       "    </tr>\n",
       "    <tr>\n",
       "      <th>1</th>\n",
       "      <td>2</td>\n",
       "      <td>Fiji</td>\n",
       "      <td>179.414413</td>\n",
       "      <td>-16.578193</td>\n",
       "      <td>Oceania</td>\n",
       "      <td>920938</td>\n",
       "      <td>1961</td>\n",
       "      <td>59.897</td>\n",
       "    </tr>\n",
       "    <tr>\n",
       "      <th>2</th>\n",
       "      <td>3</td>\n",
       "      <td>Fiji</td>\n",
       "      <td>179.414413</td>\n",
       "      <td>-16.578193</td>\n",
       "      <td>Oceania</td>\n",
       "      <td>920938</td>\n",
       "      <td>1962</td>\n",
       "      <td>60.102</td>\n",
       "    </tr>\n",
       "    <tr>\n",
       "      <th>3</th>\n",
       "      <td>4</td>\n",
       "      <td>Fiji</td>\n",
       "      <td>179.414413</td>\n",
       "      <td>-16.578193</td>\n",
       "      <td>Oceania</td>\n",
       "      <td>920938</td>\n",
       "      <td>1963</td>\n",
       "      <td>60.269</td>\n",
       "    </tr>\n",
       "    <tr>\n",
       "      <th>4</th>\n",
       "      <td>5</td>\n",
       "      <td>Fiji</td>\n",
       "      <td>179.414413</td>\n",
       "      <td>-16.578193</td>\n",
       "      <td>Oceania</td>\n",
       "      <td>920938</td>\n",
       "      <td>1964</td>\n",
       "      <td>60.405</td>\n",
       "    </tr>\n",
       "  </tbody>\n",
       "</table>\n",
       "</div>"
      ],
      "text/plain": [
       "   Unnamed: 0  name   longitude   latitude continent  pop_est  year  \\\n",
       "0           1  Fiji  179.414413 -16.578193   Oceania   920938  1960   \n",
       "1           2  Fiji  179.414413 -16.578193   Oceania   920938  1961   \n",
       "2           3  Fiji  179.414413 -16.578193   Oceania   920938  1962   \n",
       "3           4  Fiji  179.414413 -16.578193   Oceania   920938  1963   \n",
       "4           5  Fiji  179.414413 -16.578193   Oceania   920938  1964   \n",
       "\n",
       "   Avg Life Expectancy  \n",
       "0               59.641  \n",
       "1               59.897  \n",
       "2               60.102  \n",
       "3               60.269  \n",
       "4               60.405  "
      ]
     },
     "execution_count": 19,
     "metadata": {},
     "output_type": "execute_result"
    }
   ],
   "source": [
    "male = pd.read_csv('complete_male.csv')\n",
    "male.head()"
   ]
  },
  {
   "cell_type": "code",
   "execution_count": 52,
   "id": "88a20306",
   "metadata": {},
   "outputs": [
    {
     "data": {
      "text/html": [
       "<div>\n",
       "<style scoped>\n",
       "    .dataframe tbody tr th:only-of-type {\n",
       "        vertical-align: middle;\n",
       "    }\n",
       "\n",
       "    .dataframe tbody tr th {\n",
       "        vertical-align: top;\n",
       "    }\n",
       "\n",
       "    .dataframe thead th {\n",
       "        text-align: right;\n",
       "    }\n",
       "</style>\n",
       "<table border=\"1\" class=\"dataframe\">\n",
       "  <thead>\n",
       "    <tr style=\"text-align: right;\">\n",
       "      <th></th>\n",
       "      <th>name</th>\n",
       "      <th>longitude</th>\n",
       "      <th>latitude</th>\n",
       "      <th>continent</th>\n",
       "      <th>pop_est</th>\n",
       "      <th>year</th>\n",
       "      <th>Female Life Expectancy</th>\n",
       "      <th>Male Life Expectancy</th>\n",
       "    </tr>\n",
       "  </thead>\n",
       "  <tbody>\n",
       "    <tr>\n",
       "      <th>0</th>\n",
       "      <td>Fiji</td>\n",
       "      <td>179.414413</td>\n",
       "      <td>-16.578193</td>\n",
       "      <td>Oceania</td>\n",
       "      <td>920938</td>\n",
       "      <td>1960</td>\n",
       "      <td>62.369</td>\n",
       "      <td>59.641</td>\n",
       "    </tr>\n",
       "    <tr>\n",
       "      <th>1</th>\n",
       "      <td>Fiji</td>\n",
       "      <td>179.414413</td>\n",
       "      <td>-16.578193</td>\n",
       "      <td>Oceania</td>\n",
       "      <td>920938</td>\n",
       "      <td>1961</td>\n",
       "      <td>62.859</td>\n",
       "      <td>59.897</td>\n",
       "    </tr>\n",
       "    <tr>\n",
       "      <th>2</th>\n",
       "      <td>Fiji</td>\n",
       "      <td>179.414413</td>\n",
       "      <td>-16.578193</td>\n",
       "      <td>Oceania</td>\n",
       "      <td>920938</td>\n",
       "      <td>1962</td>\n",
       "      <td>63.283</td>\n",
       "      <td>60.102</td>\n",
       "    </tr>\n",
       "    <tr>\n",
       "      <th>3</th>\n",
       "      <td>Fiji</td>\n",
       "      <td>179.414413</td>\n",
       "      <td>-16.578193</td>\n",
       "      <td>Oceania</td>\n",
       "      <td>920938</td>\n",
       "      <td>1963</td>\n",
       "      <td>63.646</td>\n",
       "      <td>60.269</td>\n",
       "    </tr>\n",
       "    <tr>\n",
       "      <th>4</th>\n",
       "      <td>Fiji</td>\n",
       "      <td>179.414413</td>\n",
       "      <td>-16.578193</td>\n",
       "      <td>Oceania</td>\n",
       "      <td>920938</td>\n",
       "      <td>1964</td>\n",
       "      <td>63.957</td>\n",
       "      <td>60.405</td>\n",
       "    </tr>\n",
       "    <tr>\n",
       "      <th>...</th>\n",
       "      <td>...</td>\n",
       "      <td>...</td>\n",
       "      <td>...</td>\n",
       "      <td>...</td>\n",
       "      <td>...</td>\n",
       "      <td>...</td>\n",
       "      <td>...</td>\n",
       "      <td>...</td>\n",
       "    </tr>\n",
       "    <tr>\n",
       "      <th>9295</th>\n",
       "      <td>S. Sudan</td>\n",
       "      <td>30.217636</td>\n",
       "      <td>12.862807</td>\n",
       "      <td>Africa</td>\n",
       "      <td>13026129</td>\n",
       "      <td>2015</td>\n",
       "      <td>58.362</td>\n",
       "      <td>55.386</td>\n",
       "    </tr>\n",
       "    <tr>\n",
       "      <th>9296</th>\n",
       "      <td>S. Sudan</td>\n",
       "      <td>30.217636</td>\n",
       "      <td>12.862807</td>\n",
       "      <td>Africa</td>\n",
       "      <td>13026129</td>\n",
       "      <td>2016</td>\n",
       "      <td>58.640</td>\n",
       "      <td>55.640</td>\n",
       "    </tr>\n",
       "    <tr>\n",
       "      <th>9297</th>\n",
       "      <td>S. Sudan</td>\n",
       "      <td>30.217636</td>\n",
       "      <td>12.862807</td>\n",
       "      <td>Africa</td>\n",
       "      <td>13026129</td>\n",
       "      <td>2017</td>\n",
       "      <td>58.891</td>\n",
       "      <td>55.880</td>\n",
       "    </tr>\n",
       "    <tr>\n",
       "      <th>9298</th>\n",
       "      <td>S. Sudan</td>\n",
       "      <td>30.217636</td>\n",
       "      <td>12.862807</td>\n",
       "      <td>Africa</td>\n",
       "      <td>13026129</td>\n",
       "      <td>2018</td>\n",
       "      <td>59.135</td>\n",
       "      <td>56.115</td>\n",
       "    </tr>\n",
       "    <tr>\n",
       "      <th>9299</th>\n",
       "      <td>S. Sudan</td>\n",
       "      <td>30.217636</td>\n",
       "      <td>12.862807</td>\n",
       "      <td>Africa</td>\n",
       "      <td>13026129</td>\n",
       "      <td>2019</td>\n",
       "      <td>59.383</td>\n",
       "      <td>56.351</td>\n",
       "    </tr>\n",
       "  </tbody>\n",
       "</table>\n",
       "<p>9300 rows × 8 columns</p>\n",
       "</div>"
      ],
      "text/plain": [
       "          name   longitude   latitude continent   pop_est  year  \\\n",
       "0         Fiji  179.414413 -16.578193   Oceania    920938  1960   \n",
       "1         Fiji  179.414413 -16.578193   Oceania    920938  1961   \n",
       "2         Fiji  179.414413 -16.578193   Oceania    920938  1962   \n",
       "3         Fiji  179.414413 -16.578193   Oceania    920938  1963   \n",
       "4         Fiji  179.414413 -16.578193   Oceania    920938  1964   \n",
       "...        ...         ...        ...       ...       ...   ...   \n",
       "9295  S. Sudan   30.217636  12.862807    Africa  13026129  2015   \n",
       "9296  S. Sudan   30.217636  12.862807    Africa  13026129  2016   \n",
       "9297  S. Sudan   30.217636  12.862807    Africa  13026129  2017   \n",
       "9298  S. Sudan   30.217636  12.862807    Africa  13026129  2018   \n",
       "9299  S. Sudan   30.217636  12.862807    Africa  13026129  2019   \n",
       "\n",
       "      Female Life Expectancy  Male Life Expectancy  \n",
       "0                     62.369                59.641  \n",
       "1                     62.859                59.897  \n",
       "2                     63.283                60.102  \n",
       "3                     63.646                60.269  \n",
       "4                     63.957                60.405  \n",
       "...                      ...                   ...  \n",
       "9295                  58.362                55.386  \n",
       "9296                  58.640                55.640  \n",
       "9297                  58.891                55.880  \n",
       "9298                  59.135                56.115  \n",
       "9299                  59.383                56.351  \n",
       "\n",
       "[9300 rows x 8 columns]"
      ]
     },
     "execution_count": 52,
     "metadata": {},
     "output_type": "execute_result"
    }
   ],
   "source": [
    "complete = pd.merge(female, male, on=['name', 'year', 'longitude', 'latitude', 'continent', 'pop_est'])\n",
    "complete.rename(columns={'Avg Life Expectancy_x':'Female Life Expectancy','Avg Life Expectancy_y':'Male Life Expectancy' }, inplace=True)\n",
    "complete.drop(columns=['Unnamed: 0_y'], inplace=True)\n",
    "complete.drop(columns=['Unnamed: 0_x'], inplace=True)\n",
    "complete"
   ]
  },
  {
   "cell_type": "code",
   "execution_count": 55,
   "id": "dbac209a",
   "metadata": {},
   "outputs": [
    {
     "data": {
      "text/html": [
       "<div>\n",
       "<style scoped>\n",
       "    .dataframe tbody tr th:only-of-type {\n",
       "        vertical-align: middle;\n",
       "    }\n",
       "\n",
       "    .dataframe tbody tr th {\n",
       "        vertical-align: top;\n",
       "    }\n",
       "\n",
       "    .dataframe thead th {\n",
       "        text-align: right;\n",
       "    }\n",
       "</style>\n",
       "<table border=\"1\" class=\"dataframe\">\n",
       "  <thead>\n",
       "    <tr style=\"text-align: right;\">\n",
       "      <th></th>\n",
       "      <th>name</th>\n",
       "      <th>longitude</th>\n",
       "      <th>latitude</th>\n",
       "      <th>continent</th>\n",
       "      <th>pop_est</th>\n",
       "      <th>year</th>\n",
       "      <th>Female Life Expectancy</th>\n",
       "      <th>Male Life Expectancy</th>\n",
       "    </tr>\n",
       "  </thead>\n",
       "  <tbody>\n",
       "    <tr>\n",
       "      <th>59</th>\n",
       "      <td>Fiji</td>\n",
       "      <td>179.414413</td>\n",
       "      <td>-16.578193</td>\n",
       "      <td>Oceania</td>\n",
       "      <td>920938</td>\n",
       "      <td>2019</td>\n",
       "      <td>69.331</td>\n",
       "      <td>65.698</td>\n",
       "    </tr>\n",
       "    <tr>\n",
       "      <th>119</th>\n",
       "      <td>Tanzania</td>\n",
       "      <td>34.888822</td>\n",
       "      <td>-6.369028</td>\n",
       "      <td>Africa</td>\n",
       "      <td>53950935</td>\n",
       "      <td>2019</td>\n",
       "      <td>67.233</td>\n",
       "      <td>63.643</td>\n",
       "    </tr>\n",
       "    <tr>\n",
       "      <th>179</th>\n",
       "      <td>Canada</td>\n",
       "      <td>-106.346771</td>\n",
       "      <td>56.130366</td>\n",
       "      <td>North America</td>\n",
       "      <td>35623680</td>\n",
       "      <td>2019</td>\n",
       "      <td>84.200</td>\n",
       "      <td>80.000</td>\n",
       "    </tr>\n",
       "    <tr>\n",
       "      <th>239</th>\n",
       "      <td>United States of America</td>\n",
       "      <td>-95.712891</td>\n",
       "      <td>37.090240</td>\n",
       "      <td>North America</td>\n",
       "      <td>326625791</td>\n",
       "      <td>2019</td>\n",
       "      <td>81.400</td>\n",
       "      <td>76.300</td>\n",
       "    </tr>\n",
       "    <tr>\n",
       "      <th>299</th>\n",
       "      <td>Kazakhstan</td>\n",
       "      <td>66.923684</td>\n",
       "      <td>48.019573</td>\n",
       "      <td>Asia</td>\n",
       "      <td>18556698</td>\n",
       "      <td>2019</td>\n",
       "      <td>77.300</td>\n",
       "      <td>68.820</td>\n",
       "    </tr>\n",
       "    <tr>\n",
       "      <th>...</th>\n",
       "      <td>...</td>\n",
       "      <td>...</td>\n",
       "      <td>...</td>\n",
       "      <td>...</td>\n",
       "      <td>...</td>\n",
       "      <td>...</td>\n",
       "      <td>...</td>\n",
       "      <td>...</td>\n",
       "    </tr>\n",
       "    <tr>\n",
       "      <th>9059</th>\n",
       "      <td>Macedonia</td>\n",
       "      <td>21.745275</td>\n",
       "      <td>41.608635</td>\n",
       "      <td>Europe</td>\n",
       "      <td>2103721</td>\n",
       "      <td>2019</td>\n",
       "      <td>77.846</td>\n",
       "      <td>73.794</td>\n",
       "    </tr>\n",
       "    <tr>\n",
       "      <th>9119</th>\n",
       "      <td>Serbia</td>\n",
       "      <td>21.005859</td>\n",
       "      <td>44.016521</td>\n",
       "      <td>Europe</td>\n",
       "      <td>7111024</td>\n",
       "      <td>2019</td>\n",
       "      <td>78.400</td>\n",
       "      <td>73.100</td>\n",
       "    </tr>\n",
       "    <tr>\n",
       "      <th>9179</th>\n",
       "      <td>Montenegro</td>\n",
       "      <td>19.374390</td>\n",
       "      <td>42.708678</td>\n",
       "      <td>Europe</td>\n",
       "      <td>642550</td>\n",
       "      <td>2019</td>\n",
       "      <td>79.303</td>\n",
       "      <td>74.441</td>\n",
       "    </tr>\n",
       "    <tr>\n",
       "      <th>9239</th>\n",
       "      <td>Trinidad and Tobago</td>\n",
       "      <td>-61.222503</td>\n",
       "      <td>10.691803</td>\n",
       "      <td>North America</td>\n",
       "      <td>1218208</td>\n",
       "      <td>2019</td>\n",
       "      <td>76.224</td>\n",
       "      <td>70.874</td>\n",
       "    </tr>\n",
       "    <tr>\n",
       "      <th>9299</th>\n",
       "      <td>S. Sudan</td>\n",
       "      <td>30.217636</td>\n",
       "      <td>12.862807</td>\n",
       "      <td>Africa</td>\n",
       "      <td>13026129</td>\n",
       "      <td>2019</td>\n",
       "      <td>59.383</td>\n",
       "      <td>56.351</td>\n",
       "    </tr>\n",
       "  </tbody>\n",
       "</table>\n",
       "<p>155 rows × 8 columns</p>\n",
       "</div>"
      ],
      "text/plain": [
       "                          name   longitude   latitude      continent  \\\n",
       "59                        Fiji  179.414413 -16.578193        Oceania   \n",
       "119                   Tanzania   34.888822  -6.369028         Africa   \n",
       "179                     Canada -106.346771  56.130366  North America   \n",
       "239   United States of America  -95.712891  37.090240  North America   \n",
       "299                 Kazakhstan   66.923684  48.019573           Asia   \n",
       "...                        ...         ...        ...            ...   \n",
       "9059                 Macedonia   21.745275  41.608635         Europe   \n",
       "9119                    Serbia   21.005859  44.016521         Europe   \n",
       "9179                Montenegro   19.374390  42.708678         Europe   \n",
       "9239       Trinidad and Tobago  -61.222503  10.691803  North America   \n",
       "9299                  S. Sudan   30.217636  12.862807         Africa   \n",
       "\n",
       "        pop_est  year  Female Life Expectancy  Male Life Expectancy  \n",
       "59       920938  2019                  69.331                65.698  \n",
       "119    53950935  2019                  67.233                63.643  \n",
       "179    35623680  2019                  84.200                80.000  \n",
       "239   326625791  2019                  81.400                76.300  \n",
       "299    18556698  2019                  77.300                68.820  \n",
       "...         ...   ...                     ...                   ...  \n",
       "9059    2103721  2019                  77.846                73.794  \n",
       "9119    7111024  2019                  78.400                73.100  \n",
       "9179     642550  2019                  79.303                74.441  \n",
       "9239    1218208  2019                  76.224                70.874  \n",
       "9299   13026129  2019                  59.383                56.351  \n",
       "\n",
       "[155 rows x 8 columns]"
      ]
     },
     "execution_count": 55,
     "metadata": {},
     "output_type": "execute_result"
    }
   ],
   "source": [
    "latest = complete[complete['year'] == 2019].copy()\n",
    "latest"
   ]
  },
  {
   "cell_type": "code",
   "execution_count": 42,
   "id": "0e20a070",
   "metadata": {},
   "outputs": [
    {
     "name": "stdout",
     "output_type": "stream",
     "text": [
      "Collecting statsmodels\n",
      "  Downloading statsmodels-0.13.2-cp37-cp37m-macosx_10_9_x86_64.whl (9.5 MB)\n",
      "\u001b[K     |████████████████████████████████| 9.5 MB 6.6 MB/s eta 0:00:01\n",
      "\u001b[?25hRequirement already satisfied: numpy>=1.17 in /Users/nicki/opt/anaconda3/envs/my_env/lib/python3.7/site-packages (from statsmodels) (1.21.2)\n",
      "Requirement already satisfied: scipy>=1.3 in /Users/nicki/opt/anaconda3/envs/my_env/lib/python3.7/site-packages (from statsmodels) (1.7.3)\n",
      "Requirement already satisfied: packaging>=21.3 in /Users/nicki/opt/anaconda3/envs/my_env/lib/python3.7/site-packages (from statsmodels) (21.3)\n",
      "Requirement already satisfied: pandas>=0.25 in /Users/nicki/opt/anaconda3/envs/my_env/lib/python3.7/site-packages (from statsmodels) (1.3.5)\n",
      "Collecting patsy>=0.5.2\n",
      "  Using cached patsy-0.5.2-py2.py3-none-any.whl (233 kB)\n",
      "Requirement already satisfied: pyparsing!=3.0.5,>=2.0.2 in /Users/nicki/opt/anaconda3/envs/my_env/lib/python3.7/site-packages (from packaging>=21.3->statsmodels) (3.0.4)\n",
      "Requirement already satisfied: python-dateutil>=2.7.3 in /Users/nicki/opt/anaconda3/envs/my_env/lib/python3.7/site-packages (from pandas>=0.25->statsmodels) (2.8.2)\n",
      "Requirement already satisfied: pytz>=2017.3 in /Users/nicki/opt/anaconda3/envs/my_env/lib/python3.7/site-packages (from pandas>=0.25->statsmodels) (2021.3)\n",
      "Requirement already satisfied: six in /Users/nicki/opt/anaconda3/envs/my_env/lib/python3.7/site-packages (from patsy>=0.5.2->statsmodels) (1.16.0)\n",
      "Installing collected packages: patsy, statsmodels\n",
      "Successfully installed patsy-0.5.2 statsmodels-0.13.2\n"
     ]
    }
   ],
   "source": [
    "!pip install statsmodels"
   ]
  },
  {
   "cell_type": "code",
   "execution_count": 43,
   "id": "26b13cab",
   "metadata": {},
   "outputs": [],
   "source": [
    "import statsmodels"
   ]
  },
  {
   "cell_type": "code",
   "execution_count": 68,
   "id": "18447632",
   "metadata": {
    "scrolled": true
   },
   "outputs": [
    {
     "data": {
      "application/vnd.plotly.v1+json": {
       "config": {
        "plotlyServerURL": "https://plot.ly"
       },
       "data": [
        {
         "hovertemplate": "<b>%{hovertext}</b><br><br>continent=Oceania<br>Male Life Expectancy=%{x}<br>Female Life Expectancy=%{y}<br>pop_est=%{marker.size}<extra></extra>",
         "hovertext": [
          "Fiji",
          "Papua New Guinea",
          "New Zealand",
          "Australia"
         ],
         "legendgroup": "Oceania",
         "marker": {
          "color": "#636efa",
          "size": [
           920938,
           6909701,
           4510327,
           23232413
          ],
          "sizemode": "area",
          "sizeref": 551721.1084,
          "symbol": "circle"
         },
         "mode": "markers",
         "name": "Oceania",
         "orientation": "v",
         "showlegend": true,
         "type": "scatter",
         "x": [
          65.698,
          63.271,
          80,
          80.9
         ],
         "xaxis": "x",
         "y": [
          69.331,
          65.82,
          83.5,
          85
         ],
         "yaxis": "y"
        },
        {
         "hovertemplate": "<b>%{hovertext}</b><br><br>continent=Africa<br>Male Life Expectancy=%{x}<br>Female Life Expectancy=%{y}<br>pop_est=%{marker.size}<extra></extra>",
         "hovertext": [
          "Tanzania",
          "Dem. Rep. Congo",
          "Somalia",
          "Kenya",
          "Sudan",
          "Chad",
          "South Africa",
          "Zimbabwe",
          "Botswana",
          "Namibia",
          "Senegal",
          "Mali",
          "Mauritania",
          "Benin",
          "Niger",
          "Nigeria",
          "Cameroon",
          "Togo",
          "Ghana",
          "Guinea",
          "Guinea-Bissau",
          "Liberia",
          "Sierra Leone",
          "Burkina Faso",
          "Central African Rep.",
          "Congo",
          "Gabon",
          "Eq. Guinea",
          "Zambia",
          "Malawi",
          "Mozambique",
          "Angola",
          "Burundi",
          "Madagascar",
          "Gambia",
          "Tunisia",
          "Algeria",
          "Eritrea",
          "Morocco",
          "Egypt",
          "Libya",
          "Ethiopia",
          "Djibouti",
          "Uganda",
          "Rwanda",
          "S. Sudan"
         ],
         "legendgroup": "Africa",
         "marker": {
          "color": "#EF553B",
          "size": [
           53950935,
           83301151,
           7531386,
           47615739,
           37345935,
           12075985,
           54841552,
           13805084,
           2214858,
           2484780,
           14668522,
           17885245,
           3758571,
           11038805,
           19245344,
           190632261,
           24994885,
           7965055,
           27499924,
           12413867,
           1792338,
           4689021,
           6163195,
           20107509,
           5625118,
           4954674,
           1772255,
           778358,
           15972000,
           19196246,
           26573706,
           29310273,
           11466756,
           25054161,
           2051363,
           11403800,
           40969443,
           5918919,
           33986655,
           97041072,
           6653210,
           105350020,
           865267,
           39570125,
           11901484,
           13026129
          ],
          "sizemode": "area",
          "sizeref": 551721.1084,
          "symbol": "circle"
         },
         "mode": "markers",
         "name": "Africa",
         "orientation": "v",
         "showlegend": true,
         "type": "scatter",
         "x": [
          63.643,
          59.147,
          55.725,
          64.313,
          63.467,
          52.835,
          60.726,
          59.798,
          66.485,
          60.685,
          65.757,
          58.529,
          63.305,
          60.201,
          61.281,
          53.789,
          58.029,
          60.152,
          62.991,
          60.855,
          56.305,
          62.715,
          53.853,
          60.739,
          51.081,
          63.082,
          64.382,
          57.743,
          60.848,
          61.101,
          57.782,
          58.416,
          59.764,
          65.417,
          60.656,
          74.688,
          75.676,
          64.153,
          75.423,
          69.742,
          70.097,
          64.694,
          65.116,
          61,
          66.821,
          56.351
         ],
         "xaxis": "x",
         "y": [
          67.233,
          62.233,
          59.132,
          69.049,
          67.187,
          55.669,
          67.679,
          62.899,
          72.386,
          66.516,
          69.918,
          60.085,
          66.515,
          63.324,
          63.621,
          55.619,
          60.561,
          61.918,
          65.177,
          62.117,
          60.213,
          65.497,
          55.495,
          62.294,
          55.514,
          66.023,
          68.669,
          59.918,
          66.891,
          67.413,
          63.671,
          64.039,
          63.377,
          68.682,
          63.481,
          78.721,
          78.133,
          68.555,
          77.895,
          74.35,
          75.951,
          68.536,
          69.357,
          65.622,
          71.132,
          59.383
         ],
         "yaxis": "y"
        },
        {
         "hovertemplate": "<b>%{hovertext}</b><br><br>continent=North America<br>Male Life Expectancy=%{x}<br>Female Life Expectancy=%{y}<br>pop_est=%{marker.size}<extra></extra>",
         "hovertext": [
          "Canada",
          "United States of America",
          "Haiti",
          "Dominican Rep.",
          "Bahamas",
          "Mexico",
          "Panama",
          "Costa Rica",
          "Nicaragua",
          "Honduras",
          "El Salvador",
          "Guatemala",
          "Belize",
          "Jamaica",
          "Cuba",
          "Trinidad and Tobago"
         ],
         "legendgroup": "North America",
         "marker": {
          "color": "#00cc96",
          "size": [
           35623680,
           326625791,
           10646714,
           10734247,
           329988,
           124574795,
           3753142,
           4930258,
           6025951,
           9038741,
           6172011,
           15460732,
           360346,
           2990561,
           11147407,
           1218208
          ],
          "sizemode": "area",
          "sizeref": 551721.1084,
          "symbol": "circle"
         },
         "mode": "markers",
         "name": "North America",
         "orientation": "v",
         "showlegend": true,
         "type": "scatter",
         "x": [
          80,
          76.3,
          61.831,
          70.991,
          71.659,
          72.203,
          75.421,
          77.739,
          70.944,
          72.96,
          68.455,
          71.382,
          71.65,
          72.868,
          76.84,
          70.874
         ],
         "xaxis": "x",
         "y": [
          84.2,
          81.4,
          66.182,
          77.381,
          76.081,
          77.879,
          81.756,
          82.893,
          77.982,
          77.551,
          77.842,
          77.151,
          77.843,
          76.118,
          80.779,
          76.224
         ],
         "yaxis": "y"
        },
        {
         "hovertemplate": "<b>%{hovertext}</b><br><br>continent=Asia<br>Male Life Expectancy=%{x}<br>Female Life Expectancy=%{y}<br>pop_est=%{marker.size}<extra></extra>",
         "hovertext": [
          "Kazakhstan",
          "Uzbekistan",
          "Indonesia",
          "Timor-Leste",
          "Israel",
          "Lebanon",
          "Jordan",
          "United Arab Emirates",
          "Qatar",
          "Kuwait",
          "Iraq",
          "Oman",
          "Cambodia",
          "Thailand",
          "Laos",
          "Vietnam",
          "South Korea",
          "Mongolia",
          "India",
          "Bangladesh",
          "Bhutan",
          "Nepal",
          "Pakistan",
          "Afghanistan",
          "Tajikistan",
          "Kyrgyzstan",
          "Iran",
          "Syria",
          "Armenia",
          "Turkey",
          "Sri Lanka",
          "China",
          "Azerbaijan",
          "Georgia",
          "Philippines",
          "Malaysia",
          "Brunei",
          "Japan",
          "Yemen",
          "Saudi Arabia",
          "Cyprus"
         ],
         "legendgroup": "Asia",
         "marker": {
          "color": "#ab63fa",
          "size": [
           18556698,
           29748859,
           260580739,
           1291358,
           8299706,
           6229794,
           10248069,
           6072475,
           2314307,
           2875422,
           39192111,
           3424386,
           16204486,
           68414135,
           7126706,
           96160163,
           51181299,
           3068243,
           1281935911,
           157826578,
           758288,
           29384297,
           204924861,
           34124811,
           8468555,
           5789122,
           82021564,
           18028549,
           3045191,
           80845215,
           22409381,
           1379302771,
           9961396,
           4926330,
           104256076,
           31381992,
           443593,
           126451398,
           28036829,
           28571770,
           1221549
          ],
          "sizemode": "area",
          "sizeref": 551721.1084,
          "symbol": "circle"
         },
         "mode": "markers",
         "name": "Asia",
         "orientation": "v",
         "showlegend": true,
         "type": "scatter",
         "x": [
          68.82,
          69.592,
          69.572,
          67.492,
          81,
          77.14,
          72.839,
          77.291,
          79.142,
          74.76,
          68.565,
          76.127,
          67.538,
          73.46,
          66.142,
          71.301,
          80.3,
          65.799,
          68.464,
          70.877,
          71.405,
          69.259,
          66.337,
          63.382,
          68.935,
          67.6,
          75.593,
          67.941,
          71.327,
          74.724,
          73.596,
          74.761,
          70.511,
          69.349,
          67.263,
          74.234,
          74.728,
          81.41,
          64.443,
          73.935,
          78.921
         ],
         "xaxis": "x",
         "y": [
          77.3,
          73.829,
          73.967,
          71.635,
          84.7,
          80.869,
          76.306,
          79.314,
          82.01,
          76.58,
          72.652,
          80.343,
          71.909,
          80.9,
          69.746,
          79.523,
          86.3,
          74.142,
          70.95,
          74.595,
          72.176,
          72.208,
          68.287,
          66.388,
          73.389,
          75.8,
          77.885,
          78.103,
          78.516,
          80.563,
          80.261,
          79.244,
          75.455,
          78.14,
          75.505,
          78.317,
          77.106,
          87.45,
          67.826,
          76.759,
          83.032
         ],
         "yaxis": "y"
        },
        {
         "hovertemplate": "<b>%{hovertext}</b><br><br>continent=South America<br>Male Life Expectancy=%{x}<br>Female Life Expectancy=%{y}<br>pop_est=%{marker.size}<extra></extra>",
         "hovertext": [
          "Argentina",
          "Chile",
          "Uruguay",
          "Brazil",
          "Bolivia",
          "Peru",
          "Colombia",
          "Venezuela",
          "Guyana",
          "Suriname",
          "Ecuador",
          "Paraguay"
         ],
         "legendgroup": "South America",
         "marker": {
          "color": "#FFA15A",
          "size": [
           44293293,
           17789267,
           3360148,
           207353391,
           11138234,
           31036656,
           47698524,
           31304016,
           737718,
           591919,
           16290913,
           6943739
          ],
          "sizemode": "area",
          "sizeref": 551721.1084,
          "symbol": "circle"
         },
         "mode": "markers",
         "name": "South America",
         "orientation": "v",
         "showlegend": true,
         "type": "scatter",
         "x": [
          73.242,
          77.771,
          74.119,
          72.243,
          68.684,
          74.06,
          74.528,
          68.327,
          66.927,
          68.468,
          74.282,
          72.263
         ],
         "xaxis": "x",
         "y": [
          79.995,
          82.442,
          81.478,
          79.555,
          74.508,
          79.507,
          80.019,
          76.004,
          73.095,
          75.063,
          79.838,
          76.396
         ],
         "yaxis": "y"
        },
        {
         "hovertemplate": "<b>%{hovertext}</b><br><br>continent=Europe<br>Male Life Expectancy=%{x}<br>Female Life Expectancy=%{y}<br>pop_est=%{marker.size}<extra></extra>",
         "hovertext": [
          "Russia",
          "Sweden",
          "Belarus",
          "Ukraine",
          "Poland",
          "Austria",
          "Hungary",
          "Moldova",
          "Romania",
          "Lithuania",
          "Latvia",
          "Estonia",
          "Germany",
          "Bulgaria",
          "Greece",
          "Albania",
          "Croatia",
          "Switzerland",
          "Luxembourg",
          "Belgium",
          "Netherlands",
          "Portugal",
          "Spain",
          "Ireland",
          "Italy",
          "Denmark",
          "United Kingdom",
          "Iceland",
          "Slovenia",
          "Finland",
          "Slovakia",
          "Czechia",
          "Bosnia and Herz.",
          "Macedonia",
          "Serbia",
          "Montenegro"
         ],
         "legendgroup": "Europe",
         "marker": {
          "color": "#19d3f3",
          "size": [
           142257519,
           9960487,
           9549747,
           44033874,
           38476269,
           8754413,
           9850845,
           3474121,
           21529967,
           2823859,
           1944643,
           1251581,
           80594017,
           7101510,
           10768477,
           3047987,
           4292095,
           8236303,
           594130,
           11491346,
           17084719,
           10839514,
           48958159,
           5011102,
           62137802,
           5605948,
           64769452,
           339747,
           1972126,
           5491218,
           5445829,
           10674723,
           3856181,
           2103721,
           7111024,
           642550
          ],
          "sizemode": "area",
          "sizeref": 551721.1084,
          "symbol": "circle"
         },
         "mode": "markers",
         "name": "Europe",
         "orientation": "v",
         "showlegend": true,
         "type": "scatter",
         "x": [
          68.24,
          81.3,
          69.3,
          66.92,
          74.1,
          79.5,
          72.9,
          67.624,
          71.8,
          71.5,
          70.8,
          74.4,
          78.6,
          71.5,
          79.5,
          77.002,
          75.4,
          81.9,
          80.3,
          79.6,
          80.5,
          78,
          80.9,
          80.4,
          81.1,
          79.3,
          79.4,
          81,
          78.5,
          79.2,
          74.3,
          76.3,
          74.893,
          73.794,
          73.1,
          74.441
         ],
         "xaxis": "x",
         "y": [
          78.17,
          84.7,
          79.4,
          76.98,
          81.8,
          84.2,
          79.3,
          76.157,
          79.3,
          81,
          79.9,
          82.8,
          83.4,
          78.5,
          84.5,
          80.201,
          81.6,
          85.6,
          84.7,
          84,
          83.6,
          83.5,
          86.2,
          84.3,
          85.4,
          83.2,
          83.1,
          84.2,
          84.2,
          84.5,
          80.8,
          82.1,
          79.857,
          77.846,
          78.4,
          79.303
         ],
         "yaxis": "y"
        },
        {
         "hovertemplate": "x=%{x}<br>y=%{y}<extra></extra>",
         "legendgroup": "",
         "line": {
          "color": "#636efa",
          "dash": "solid"
         },
         "marker": {
          "symbol": "circle"
         },
         "mode": "lines",
         "name": "",
         "orientation": "v",
         "showlegend": false,
         "type": "scatter",
         "x": [
          50,
          55,
          60,
          65,
          70,
          75,
          80,
          90
         ],
         "xaxis": "x",
         "y": [
          50,
          55,
          60,
          65,
          70,
          75,
          80,
          90
         ],
         "yaxis": "y"
        }
       ],
       "layout": {
        "template": {
         "data": {
          "bar": [
           {
            "error_x": {
             "color": "#2a3f5f"
            },
            "error_y": {
             "color": "#2a3f5f"
            },
            "marker": {
             "line": {
              "color": "#E5ECF6",
              "width": 0.5
             },
             "pattern": {
              "fillmode": "overlay",
              "size": 10,
              "solidity": 0.2
             }
            },
            "type": "bar"
           }
          ],
          "barpolar": [
           {
            "marker": {
             "line": {
              "color": "#E5ECF6",
              "width": 0.5
             },
             "pattern": {
              "fillmode": "overlay",
              "size": 10,
              "solidity": 0.2
             }
            },
            "type": "barpolar"
           }
          ],
          "carpet": [
           {
            "aaxis": {
             "endlinecolor": "#2a3f5f",
             "gridcolor": "white",
             "linecolor": "white",
             "minorgridcolor": "white",
             "startlinecolor": "#2a3f5f"
            },
            "baxis": {
             "endlinecolor": "#2a3f5f",
             "gridcolor": "white",
             "linecolor": "white",
             "minorgridcolor": "white",
             "startlinecolor": "#2a3f5f"
            },
            "type": "carpet"
           }
          ],
          "choropleth": [
           {
            "colorbar": {
             "outlinewidth": 0,
             "ticks": ""
            },
            "type": "choropleth"
           }
          ],
          "contour": [
           {
            "colorbar": {
             "outlinewidth": 0,
             "ticks": ""
            },
            "colorscale": [
             [
              0,
              "#0d0887"
             ],
             [
              0.1111111111111111,
              "#46039f"
             ],
             [
              0.2222222222222222,
              "#7201a8"
             ],
             [
              0.3333333333333333,
              "#9c179e"
             ],
             [
              0.4444444444444444,
              "#bd3786"
             ],
             [
              0.5555555555555556,
              "#d8576b"
             ],
             [
              0.6666666666666666,
              "#ed7953"
             ],
             [
              0.7777777777777778,
              "#fb9f3a"
             ],
             [
              0.8888888888888888,
              "#fdca26"
             ],
             [
              1,
              "#f0f921"
             ]
            ],
            "type": "contour"
           }
          ],
          "contourcarpet": [
           {
            "colorbar": {
             "outlinewidth": 0,
             "ticks": ""
            },
            "type": "contourcarpet"
           }
          ],
          "heatmap": [
           {
            "colorbar": {
             "outlinewidth": 0,
             "ticks": ""
            },
            "colorscale": [
             [
              0,
              "#0d0887"
             ],
             [
              0.1111111111111111,
              "#46039f"
             ],
             [
              0.2222222222222222,
              "#7201a8"
             ],
             [
              0.3333333333333333,
              "#9c179e"
             ],
             [
              0.4444444444444444,
              "#bd3786"
             ],
             [
              0.5555555555555556,
              "#d8576b"
             ],
             [
              0.6666666666666666,
              "#ed7953"
             ],
             [
              0.7777777777777778,
              "#fb9f3a"
             ],
             [
              0.8888888888888888,
              "#fdca26"
             ],
             [
              1,
              "#f0f921"
             ]
            ],
            "type": "heatmap"
           }
          ],
          "heatmapgl": [
           {
            "colorbar": {
             "outlinewidth": 0,
             "ticks": ""
            },
            "colorscale": [
             [
              0,
              "#0d0887"
             ],
             [
              0.1111111111111111,
              "#46039f"
             ],
             [
              0.2222222222222222,
              "#7201a8"
             ],
             [
              0.3333333333333333,
              "#9c179e"
             ],
             [
              0.4444444444444444,
              "#bd3786"
             ],
             [
              0.5555555555555556,
              "#d8576b"
             ],
             [
              0.6666666666666666,
              "#ed7953"
             ],
             [
              0.7777777777777778,
              "#fb9f3a"
             ],
             [
              0.8888888888888888,
              "#fdca26"
             ],
             [
              1,
              "#f0f921"
             ]
            ],
            "type": "heatmapgl"
           }
          ],
          "histogram": [
           {
            "marker": {
             "pattern": {
              "fillmode": "overlay",
              "size": 10,
              "solidity": 0.2
             }
            },
            "type": "histogram"
           }
          ],
          "histogram2d": [
           {
            "colorbar": {
             "outlinewidth": 0,
             "ticks": ""
            },
            "colorscale": [
             [
              0,
              "#0d0887"
             ],
             [
              0.1111111111111111,
              "#46039f"
             ],
             [
              0.2222222222222222,
              "#7201a8"
             ],
             [
              0.3333333333333333,
              "#9c179e"
             ],
             [
              0.4444444444444444,
              "#bd3786"
             ],
             [
              0.5555555555555556,
              "#d8576b"
             ],
             [
              0.6666666666666666,
              "#ed7953"
             ],
             [
              0.7777777777777778,
              "#fb9f3a"
             ],
             [
              0.8888888888888888,
              "#fdca26"
             ],
             [
              1,
              "#f0f921"
             ]
            ],
            "type": "histogram2d"
           }
          ],
          "histogram2dcontour": [
           {
            "colorbar": {
             "outlinewidth": 0,
             "ticks": ""
            },
            "colorscale": [
             [
              0,
              "#0d0887"
             ],
             [
              0.1111111111111111,
              "#46039f"
             ],
             [
              0.2222222222222222,
              "#7201a8"
             ],
             [
              0.3333333333333333,
              "#9c179e"
             ],
             [
              0.4444444444444444,
              "#bd3786"
             ],
             [
              0.5555555555555556,
              "#d8576b"
             ],
             [
              0.6666666666666666,
              "#ed7953"
             ],
             [
              0.7777777777777778,
              "#fb9f3a"
             ],
             [
              0.8888888888888888,
              "#fdca26"
             ],
             [
              1,
              "#f0f921"
             ]
            ],
            "type": "histogram2dcontour"
           }
          ],
          "mesh3d": [
           {
            "colorbar": {
             "outlinewidth": 0,
             "ticks": ""
            },
            "type": "mesh3d"
           }
          ],
          "parcoords": [
           {
            "line": {
             "colorbar": {
              "outlinewidth": 0,
              "ticks": ""
             }
            },
            "type": "parcoords"
           }
          ],
          "pie": [
           {
            "automargin": true,
            "type": "pie"
           }
          ],
          "scatter": [
           {
            "marker": {
             "colorbar": {
              "outlinewidth": 0,
              "ticks": ""
             }
            },
            "type": "scatter"
           }
          ],
          "scatter3d": [
           {
            "line": {
             "colorbar": {
              "outlinewidth": 0,
              "ticks": ""
             }
            },
            "marker": {
             "colorbar": {
              "outlinewidth": 0,
              "ticks": ""
             }
            },
            "type": "scatter3d"
           }
          ],
          "scattercarpet": [
           {
            "marker": {
             "colorbar": {
              "outlinewidth": 0,
              "ticks": ""
             }
            },
            "type": "scattercarpet"
           }
          ],
          "scattergeo": [
           {
            "marker": {
             "colorbar": {
              "outlinewidth": 0,
              "ticks": ""
             }
            },
            "type": "scattergeo"
           }
          ],
          "scattergl": [
           {
            "marker": {
             "colorbar": {
              "outlinewidth": 0,
              "ticks": ""
             }
            },
            "type": "scattergl"
           }
          ],
          "scattermapbox": [
           {
            "marker": {
             "colorbar": {
              "outlinewidth": 0,
              "ticks": ""
             }
            },
            "type": "scattermapbox"
           }
          ],
          "scatterpolar": [
           {
            "marker": {
             "colorbar": {
              "outlinewidth": 0,
              "ticks": ""
             }
            },
            "type": "scatterpolar"
           }
          ],
          "scatterpolargl": [
           {
            "marker": {
             "colorbar": {
              "outlinewidth": 0,
              "ticks": ""
             }
            },
            "type": "scatterpolargl"
           }
          ],
          "scatterternary": [
           {
            "marker": {
             "colorbar": {
              "outlinewidth": 0,
              "ticks": ""
             }
            },
            "type": "scatterternary"
           }
          ],
          "surface": [
           {
            "colorbar": {
             "outlinewidth": 0,
             "ticks": ""
            },
            "colorscale": [
             [
              0,
              "#0d0887"
             ],
             [
              0.1111111111111111,
              "#46039f"
             ],
             [
              0.2222222222222222,
              "#7201a8"
             ],
             [
              0.3333333333333333,
              "#9c179e"
             ],
             [
              0.4444444444444444,
              "#bd3786"
             ],
             [
              0.5555555555555556,
              "#d8576b"
             ],
             [
              0.6666666666666666,
              "#ed7953"
             ],
             [
              0.7777777777777778,
              "#fb9f3a"
             ],
             [
              0.8888888888888888,
              "#fdca26"
             ],
             [
              1,
              "#f0f921"
             ]
            ],
            "type": "surface"
           }
          ],
          "table": [
           {
            "cells": {
             "fill": {
              "color": "#EBF0F8"
             },
             "line": {
              "color": "white"
             }
            },
            "header": {
             "fill": {
              "color": "#C8D4E3"
             },
             "line": {
              "color": "white"
             }
            },
            "type": "table"
           }
          ]
         },
         "layout": {
          "annotationdefaults": {
           "arrowcolor": "#2a3f5f",
           "arrowhead": 0,
           "arrowwidth": 1
          },
          "autotypenumbers": "strict",
          "coloraxis": {
           "colorbar": {
            "outlinewidth": 0,
            "ticks": ""
           }
          },
          "colorscale": {
           "diverging": [
            [
             0,
             "#8e0152"
            ],
            [
             0.1,
             "#c51b7d"
            ],
            [
             0.2,
             "#de77ae"
            ],
            [
             0.3,
             "#f1b6da"
            ],
            [
             0.4,
             "#fde0ef"
            ],
            [
             0.5,
             "#f7f7f7"
            ],
            [
             0.6,
             "#e6f5d0"
            ],
            [
             0.7,
             "#b8e186"
            ],
            [
             0.8,
             "#7fbc41"
            ],
            [
             0.9,
             "#4d9221"
            ],
            [
             1,
             "#276419"
            ]
           ],
           "sequential": [
            [
             0,
             "#0d0887"
            ],
            [
             0.1111111111111111,
             "#46039f"
            ],
            [
             0.2222222222222222,
             "#7201a8"
            ],
            [
             0.3333333333333333,
             "#9c179e"
            ],
            [
             0.4444444444444444,
             "#bd3786"
            ],
            [
             0.5555555555555556,
             "#d8576b"
            ],
            [
             0.6666666666666666,
             "#ed7953"
            ],
            [
             0.7777777777777778,
             "#fb9f3a"
            ],
            [
             0.8888888888888888,
             "#fdca26"
            ],
            [
             1,
             "#f0f921"
            ]
           ],
           "sequentialminus": [
            [
             0,
             "#0d0887"
            ],
            [
             0.1111111111111111,
             "#46039f"
            ],
            [
             0.2222222222222222,
             "#7201a8"
            ],
            [
             0.3333333333333333,
             "#9c179e"
            ],
            [
             0.4444444444444444,
             "#bd3786"
            ],
            [
             0.5555555555555556,
             "#d8576b"
            ],
            [
             0.6666666666666666,
             "#ed7953"
            ],
            [
             0.7777777777777778,
             "#fb9f3a"
            ],
            [
             0.8888888888888888,
             "#fdca26"
            ],
            [
             1,
             "#f0f921"
            ]
           ]
          },
          "colorway": [
           "#636efa",
           "#EF553B",
           "#00cc96",
           "#ab63fa",
           "#FFA15A",
           "#19d3f3",
           "#FF6692",
           "#B6E880",
           "#FF97FF",
           "#FECB52"
          ],
          "font": {
           "color": "#2a3f5f"
          },
          "geo": {
           "bgcolor": "white",
           "lakecolor": "white",
           "landcolor": "#E5ECF6",
           "showlakes": true,
           "showland": true,
           "subunitcolor": "white"
          },
          "hoverlabel": {
           "align": "left"
          },
          "hovermode": "closest",
          "mapbox": {
           "style": "light"
          },
          "paper_bgcolor": "white",
          "plot_bgcolor": "#E5ECF6",
          "polar": {
           "angularaxis": {
            "gridcolor": "white",
            "linecolor": "white",
            "ticks": ""
           },
           "bgcolor": "#E5ECF6",
           "radialaxis": {
            "gridcolor": "white",
            "linecolor": "white",
            "ticks": ""
           }
          },
          "scene": {
           "xaxis": {
            "backgroundcolor": "#E5ECF6",
            "gridcolor": "white",
            "gridwidth": 2,
            "linecolor": "white",
            "showbackground": true,
            "ticks": "",
            "zerolinecolor": "white"
           },
           "yaxis": {
            "backgroundcolor": "#E5ECF6",
            "gridcolor": "white",
            "gridwidth": 2,
            "linecolor": "white",
            "showbackground": true,
            "ticks": "",
            "zerolinecolor": "white"
           },
           "zaxis": {
            "backgroundcolor": "#E5ECF6",
            "gridcolor": "white",
            "gridwidth": 2,
            "linecolor": "white",
            "showbackground": true,
            "ticks": "",
            "zerolinecolor": "white"
           }
          },
          "shapedefaults": {
           "line": {
            "color": "#2a3f5f"
           }
          },
          "ternary": {
           "aaxis": {
            "gridcolor": "white",
            "linecolor": "white",
            "ticks": ""
           },
           "baxis": {
            "gridcolor": "white",
            "linecolor": "white",
            "ticks": ""
           },
           "bgcolor": "#E5ECF6",
           "caxis": {
            "gridcolor": "white",
            "linecolor": "white",
            "ticks": ""
           }
          },
          "title": {
           "x": 0.05
          },
          "xaxis": {
           "automargin": true,
           "gridcolor": "white",
           "linecolor": "white",
           "ticks": "",
           "title": {
            "standoff": 15
           },
           "zerolinecolor": "white",
           "zerolinewidth": 2
          },
          "yaxis": {
           "automargin": true,
           "gridcolor": "white",
           "linecolor": "white",
           "ticks": "",
           "title": {
            "standoff": 15
           },
           "zerolinecolor": "white",
           "zerolinewidth": 2
          }
         }
        },
        "title": {
         "text": "Male Life Expectancy vs. Female Life Expectancy, 2019"
        },
        "xaxis": {
         "title": {
          "text": "Male Life Expectancy"
         }
        },
        "yaxis": {
         "title": {
          "text": "Female Life Expectancy"
         }
        }
       }
      },
      "text/html": [
       "<div>                            <div id=\"f81222f2-99da-4a61-85e9-e03faf7527b9\" class=\"plotly-graph-div\" style=\"height:525px; width:100%;\"></div>            <script type=\"text/javascript\">                require([\"plotly\"], function(Plotly) {                    window.PLOTLYENV=window.PLOTLYENV || {};                                    if (document.getElementById(\"f81222f2-99da-4a61-85e9-e03faf7527b9\")) {                    Plotly.newPlot(                        \"f81222f2-99da-4a61-85e9-e03faf7527b9\",                        [{\"hovertemplate\":\"<b>%{hovertext}</b><br><br>continent=Oceania<br>Male Life Expectancy=%{x}<br>Female Life Expectancy=%{y}<br>pop_est=%{marker.size}<extra></extra>\",\"hovertext\":[\"Fiji\",\"Papua New Guinea\",\"New Zealand\",\"Australia\"],\"legendgroup\":\"Oceania\",\"marker\":{\"color\":\"#636efa\",\"size\":[920938,6909701,4510327,23232413],\"sizemode\":\"area\",\"sizeref\":551721.1084,\"symbol\":\"circle\"},\"mode\":\"markers\",\"name\":\"Oceania\",\"orientation\":\"v\",\"showlegend\":true,\"x\":[65.698,63.271,80.0,80.9],\"xaxis\":\"x\",\"y\":[69.331,65.82,83.5,85.0],\"yaxis\":\"y\",\"type\":\"scatter\"},{\"hovertemplate\":\"<b>%{hovertext}</b><br><br>continent=Africa<br>Male Life Expectancy=%{x}<br>Female Life Expectancy=%{y}<br>pop_est=%{marker.size}<extra></extra>\",\"hovertext\":[\"Tanzania\",\"Dem. Rep. Congo\",\"Somalia\",\"Kenya\",\"Sudan\",\"Chad\",\"South Africa\",\"Zimbabwe\",\"Botswana\",\"Namibia\",\"Senegal\",\"Mali\",\"Mauritania\",\"Benin\",\"Niger\",\"Nigeria\",\"Cameroon\",\"Togo\",\"Ghana\",\"Guinea\",\"Guinea-Bissau\",\"Liberia\",\"Sierra Leone\",\"Burkina Faso\",\"Central African Rep.\",\"Congo\",\"Gabon\",\"Eq. Guinea\",\"Zambia\",\"Malawi\",\"Mozambique\",\"Angola\",\"Burundi\",\"Madagascar\",\"Gambia\",\"Tunisia\",\"Algeria\",\"Eritrea\",\"Morocco\",\"Egypt\",\"Libya\",\"Ethiopia\",\"Djibouti\",\"Uganda\",\"Rwanda\",\"S. Sudan\"],\"legendgroup\":\"Africa\",\"marker\":{\"color\":\"#EF553B\",\"size\":[53950935,83301151,7531386,47615739,37345935,12075985,54841552,13805084,2214858,2484780,14668522,17885245,3758571,11038805,19245344,190632261,24994885,7965055,27499924,12413867,1792338,4689021,6163195,20107509,5625118,4954674,1772255,778358,15972000,19196246,26573706,29310273,11466756,25054161,2051363,11403800,40969443,5918919,33986655,97041072,6653210,105350020,865267,39570125,11901484,13026129],\"sizemode\":\"area\",\"sizeref\":551721.1084,\"symbol\":\"circle\"},\"mode\":\"markers\",\"name\":\"Africa\",\"orientation\":\"v\",\"showlegend\":true,\"x\":[63.643,59.147,55.725,64.313,63.467,52.835,60.726,59.798,66.485,60.685,65.757,58.529,63.305,60.201,61.281,53.789,58.029,60.152,62.991,60.855,56.305,62.715,53.853,60.739,51.081,63.082,64.382,57.743,60.848,61.101,57.782,58.416,59.764,65.417,60.656,74.688,75.676,64.153,75.423,69.742,70.097,64.694,65.116,61.0,66.821,56.351],\"xaxis\":\"x\",\"y\":[67.233,62.233,59.132,69.049,67.187,55.669,67.679,62.899,72.386,66.516,69.918,60.085,66.515,63.324,63.621,55.619,60.561,61.918,65.177,62.117,60.213,65.497,55.495,62.294,55.514,66.023,68.669,59.918,66.891,67.413,63.671,64.039,63.377,68.682,63.481,78.721,78.133,68.555,77.895,74.35,75.951,68.536,69.357,65.622,71.132,59.383],\"yaxis\":\"y\",\"type\":\"scatter\"},{\"hovertemplate\":\"<b>%{hovertext}</b><br><br>continent=North America<br>Male Life Expectancy=%{x}<br>Female Life Expectancy=%{y}<br>pop_est=%{marker.size}<extra></extra>\",\"hovertext\":[\"Canada\",\"United States of America\",\"Haiti\",\"Dominican Rep.\",\"Bahamas\",\"Mexico\",\"Panama\",\"Costa Rica\",\"Nicaragua\",\"Honduras\",\"El Salvador\",\"Guatemala\",\"Belize\",\"Jamaica\",\"Cuba\",\"Trinidad and Tobago\"],\"legendgroup\":\"North America\",\"marker\":{\"color\":\"#00cc96\",\"size\":[35623680,326625791,10646714,10734247,329988,124574795,3753142,4930258,6025951,9038741,6172011,15460732,360346,2990561,11147407,1218208],\"sizemode\":\"area\",\"sizeref\":551721.1084,\"symbol\":\"circle\"},\"mode\":\"markers\",\"name\":\"North America\",\"orientation\":\"v\",\"showlegend\":true,\"x\":[80.0,76.3,61.831,70.991,71.659,72.203,75.421,77.739,70.944,72.96,68.455,71.382,71.65,72.868,76.84,70.874],\"xaxis\":\"x\",\"y\":[84.2,81.4,66.182,77.381,76.081,77.879,81.756,82.893,77.982,77.551,77.842,77.151,77.843,76.118,80.779,76.224],\"yaxis\":\"y\",\"type\":\"scatter\"},{\"hovertemplate\":\"<b>%{hovertext}</b><br><br>continent=Asia<br>Male Life Expectancy=%{x}<br>Female Life Expectancy=%{y}<br>pop_est=%{marker.size}<extra></extra>\",\"hovertext\":[\"Kazakhstan\",\"Uzbekistan\",\"Indonesia\",\"Timor-Leste\",\"Israel\",\"Lebanon\",\"Jordan\",\"United Arab Emirates\",\"Qatar\",\"Kuwait\",\"Iraq\",\"Oman\",\"Cambodia\",\"Thailand\",\"Laos\",\"Vietnam\",\"South Korea\",\"Mongolia\",\"India\",\"Bangladesh\",\"Bhutan\",\"Nepal\",\"Pakistan\",\"Afghanistan\",\"Tajikistan\",\"Kyrgyzstan\",\"Iran\",\"Syria\",\"Armenia\",\"Turkey\",\"Sri Lanka\",\"China\",\"Azerbaijan\",\"Georgia\",\"Philippines\",\"Malaysia\",\"Brunei\",\"Japan\",\"Yemen\",\"Saudi Arabia\",\"Cyprus\"],\"legendgroup\":\"Asia\",\"marker\":{\"color\":\"#ab63fa\",\"size\":[18556698,29748859,260580739,1291358,8299706,6229794,10248069,6072475,2314307,2875422,39192111,3424386,16204486,68414135,7126706,96160163,51181299,3068243,1281935911,157826578,758288,29384297,204924861,34124811,8468555,5789122,82021564,18028549,3045191,80845215,22409381,1379302771,9961396,4926330,104256076,31381992,443593,126451398,28036829,28571770,1221549],\"sizemode\":\"area\",\"sizeref\":551721.1084,\"symbol\":\"circle\"},\"mode\":\"markers\",\"name\":\"Asia\",\"orientation\":\"v\",\"showlegend\":true,\"x\":[68.82,69.592,69.572,67.492,81.0,77.14,72.839,77.291,79.142,74.76,68.565,76.127,67.538,73.46,66.142,71.301,80.3,65.799,68.464,70.877,71.405,69.259,66.337,63.382,68.935,67.6,75.593,67.941,71.327,74.724,73.596,74.761,70.511,69.349,67.263,74.234,74.728,81.41,64.443,73.935,78.921],\"xaxis\":\"x\",\"y\":[77.3,73.829,73.967,71.635,84.7,80.869,76.306,79.314,82.01,76.58,72.652,80.343,71.909,80.9,69.746,79.523,86.3,74.142,70.95,74.595,72.176,72.208,68.287,66.388,73.389,75.8,77.885,78.103,78.516,80.563,80.261,79.244,75.455,78.14,75.505,78.317,77.106,87.45,67.826,76.759,83.032],\"yaxis\":\"y\",\"type\":\"scatter\"},{\"hovertemplate\":\"<b>%{hovertext}</b><br><br>continent=South America<br>Male Life Expectancy=%{x}<br>Female Life Expectancy=%{y}<br>pop_est=%{marker.size}<extra></extra>\",\"hovertext\":[\"Argentina\",\"Chile\",\"Uruguay\",\"Brazil\",\"Bolivia\",\"Peru\",\"Colombia\",\"Venezuela\",\"Guyana\",\"Suriname\",\"Ecuador\",\"Paraguay\"],\"legendgroup\":\"South America\",\"marker\":{\"color\":\"#FFA15A\",\"size\":[44293293,17789267,3360148,207353391,11138234,31036656,47698524,31304016,737718,591919,16290913,6943739],\"sizemode\":\"area\",\"sizeref\":551721.1084,\"symbol\":\"circle\"},\"mode\":\"markers\",\"name\":\"South America\",\"orientation\":\"v\",\"showlegend\":true,\"x\":[73.242,77.771,74.119,72.243,68.684,74.06,74.528,68.327,66.927,68.468,74.282,72.263],\"xaxis\":\"x\",\"y\":[79.995,82.442,81.478,79.555,74.508,79.507,80.019,76.004,73.095,75.063,79.838,76.396],\"yaxis\":\"y\",\"type\":\"scatter\"},{\"hovertemplate\":\"<b>%{hovertext}</b><br><br>continent=Europe<br>Male Life Expectancy=%{x}<br>Female Life Expectancy=%{y}<br>pop_est=%{marker.size}<extra></extra>\",\"hovertext\":[\"Russia\",\"Sweden\",\"Belarus\",\"Ukraine\",\"Poland\",\"Austria\",\"Hungary\",\"Moldova\",\"Romania\",\"Lithuania\",\"Latvia\",\"Estonia\",\"Germany\",\"Bulgaria\",\"Greece\",\"Albania\",\"Croatia\",\"Switzerland\",\"Luxembourg\",\"Belgium\",\"Netherlands\",\"Portugal\",\"Spain\",\"Ireland\",\"Italy\",\"Denmark\",\"United Kingdom\",\"Iceland\",\"Slovenia\",\"Finland\",\"Slovakia\",\"Czechia\",\"Bosnia and Herz.\",\"Macedonia\",\"Serbia\",\"Montenegro\"],\"legendgroup\":\"Europe\",\"marker\":{\"color\":\"#19d3f3\",\"size\":[142257519,9960487,9549747,44033874,38476269,8754413,9850845,3474121,21529967,2823859,1944643,1251581,80594017,7101510,10768477,3047987,4292095,8236303,594130,11491346,17084719,10839514,48958159,5011102,62137802,5605948,64769452,339747,1972126,5491218,5445829,10674723,3856181,2103721,7111024,642550],\"sizemode\":\"area\",\"sizeref\":551721.1084,\"symbol\":\"circle\"},\"mode\":\"markers\",\"name\":\"Europe\",\"orientation\":\"v\",\"showlegend\":true,\"x\":[68.24,81.3,69.3,66.92,74.1,79.5,72.9,67.624,71.8,71.5,70.8,74.4,78.6,71.5,79.5,77.002,75.4,81.9,80.3,79.6,80.5,78.0,80.9,80.4,81.1,79.3,79.4,81.0,78.5,79.2,74.3,76.3,74.893,73.794,73.1,74.441],\"xaxis\":\"x\",\"y\":[78.17,84.7,79.4,76.98,81.8,84.2,79.3,76.157,79.3,81.0,79.9,82.8,83.4,78.5,84.5,80.201,81.6,85.6,84.7,84.0,83.6,83.5,86.2,84.3,85.4,83.2,83.1,84.2,84.2,84.5,80.8,82.1,79.857,77.846,78.4,79.303],\"yaxis\":\"y\",\"type\":\"scatter\"},{\"hovertemplate\":\"x=%{x}<br>y=%{y}<extra></extra>\",\"legendgroup\":\"\",\"line\":{\"color\":\"#636efa\",\"dash\":\"solid\"},\"marker\":{\"symbol\":\"circle\"},\"mode\":\"lines\",\"name\":\"\",\"orientation\":\"v\",\"showlegend\":false,\"x\":[50,55,60,65,70,75,80,90],\"xaxis\":\"x\",\"y\":[50,55,60,65,70,75,80,90],\"yaxis\":\"y\",\"type\":\"scatter\"}],                        {\"title\":{\"text\":\"Male Life Expectancy vs. Female Life Expectancy, 2019\"},\"xaxis\":{\"title\":{\"text\":\"Male Life Expectancy\"}},\"yaxis\":{\"title\":{\"text\":\"Female Life Expectancy\"}},\"template\":{\"data\":{\"bar\":[{\"error_x\":{\"color\":\"#2a3f5f\"},\"error_y\":{\"color\":\"#2a3f5f\"},\"marker\":{\"line\":{\"color\":\"#E5ECF6\",\"width\":0.5},\"pattern\":{\"fillmode\":\"overlay\",\"size\":10,\"solidity\":0.2}},\"type\":\"bar\"}],\"barpolar\":[{\"marker\":{\"line\":{\"color\":\"#E5ECF6\",\"width\":0.5},\"pattern\":{\"fillmode\":\"overlay\",\"size\":10,\"solidity\":0.2}},\"type\":\"barpolar\"}],\"carpet\":[{\"aaxis\":{\"endlinecolor\":\"#2a3f5f\",\"gridcolor\":\"white\",\"linecolor\":\"white\",\"minorgridcolor\":\"white\",\"startlinecolor\":\"#2a3f5f\"},\"baxis\":{\"endlinecolor\":\"#2a3f5f\",\"gridcolor\":\"white\",\"linecolor\":\"white\",\"minorgridcolor\":\"white\",\"startlinecolor\":\"#2a3f5f\"},\"type\":\"carpet\"}],\"choropleth\":[{\"colorbar\":{\"outlinewidth\":0,\"ticks\":\"\"},\"type\":\"choropleth\"}],\"contour\":[{\"colorbar\":{\"outlinewidth\":0,\"ticks\":\"\"},\"colorscale\":[[0.0,\"#0d0887\"],[0.1111111111111111,\"#46039f\"],[0.2222222222222222,\"#7201a8\"],[0.3333333333333333,\"#9c179e\"],[0.4444444444444444,\"#bd3786\"],[0.5555555555555556,\"#d8576b\"],[0.6666666666666666,\"#ed7953\"],[0.7777777777777778,\"#fb9f3a\"],[0.8888888888888888,\"#fdca26\"],[1.0,\"#f0f921\"]],\"type\":\"contour\"}],\"contourcarpet\":[{\"colorbar\":{\"outlinewidth\":0,\"ticks\":\"\"},\"type\":\"contourcarpet\"}],\"heatmap\":[{\"colorbar\":{\"outlinewidth\":0,\"ticks\":\"\"},\"colorscale\":[[0.0,\"#0d0887\"],[0.1111111111111111,\"#46039f\"],[0.2222222222222222,\"#7201a8\"],[0.3333333333333333,\"#9c179e\"],[0.4444444444444444,\"#bd3786\"],[0.5555555555555556,\"#d8576b\"],[0.6666666666666666,\"#ed7953\"],[0.7777777777777778,\"#fb9f3a\"],[0.8888888888888888,\"#fdca26\"],[1.0,\"#f0f921\"]],\"type\":\"heatmap\"}],\"heatmapgl\":[{\"colorbar\":{\"outlinewidth\":0,\"ticks\":\"\"},\"colorscale\":[[0.0,\"#0d0887\"],[0.1111111111111111,\"#46039f\"],[0.2222222222222222,\"#7201a8\"],[0.3333333333333333,\"#9c179e\"],[0.4444444444444444,\"#bd3786\"],[0.5555555555555556,\"#d8576b\"],[0.6666666666666666,\"#ed7953\"],[0.7777777777777778,\"#fb9f3a\"],[0.8888888888888888,\"#fdca26\"],[1.0,\"#f0f921\"]],\"type\":\"heatmapgl\"}],\"histogram\":[{\"marker\":{\"pattern\":{\"fillmode\":\"overlay\",\"size\":10,\"solidity\":0.2}},\"type\":\"histogram\"}],\"histogram2d\":[{\"colorbar\":{\"outlinewidth\":0,\"ticks\":\"\"},\"colorscale\":[[0.0,\"#0d0887\"],[0.1111111111111111,\"#46039f\"],[0.2222222222222222,\"#7201a8\"],[0.3333333333333333,\"#9c179e\"],[0.4444444444444444,\"#bd3786\"],[0.5555555555555556,\"#d8576b\"],[0.6666666666666666,\"#ed7953\"],[0.7777777777777778,\"#fb9f3a\"],[0.8888888888888888,\"#fdca26\"],[1.0,\"#f0f921\"]],\"type\":\"histogram2d\"}],\"histogram2dcontour\":[{\"colorbar\":{\"outlinewidth\":0,\"ticks\":\"\"},\"colorscale\":[[0.0,\"#0d0887\"],[0.1111111111111111,\"#46039f\"],[0.2222222222222222,\"#7201a8\"],[0.3333333333333333,\"#9c179e\"],[0.4444444444444444,\"#bd3786\"],[0.5555555555555556,\"#d8576b\"],[0.6666666666666666,\"#ed7953\"],[0.7777777777777778,\"#fb9f3a\"],[0.8888888888888888,\"#fdca26\"],[1.0,\"#f0f921\"]],\"type\":\"histogram2dcontour\"}],\"mesh3d\":[{\"colorbar\":{\"outlinewidth\":0,\"ticks\":\"\"},\"type\":\"mesh3d\"}],\"parcoords\":[{\"line\":{\"colorbar\":{\"outlinewidth\":0,\"ticks\":\"\"}},\"type\":\"parcoords\"}],\"pie\":[{\"automargin\":true,\"type\":\"pie\"}],\"scatter\":[{\"marker\":{\"colorbar\":{\"outlinewidth\":0,\"ticks\":\"\"}},\"type\":\"scatter\"}],\"scatter3d\":[{\"line\":{\"colorbar\":{\"outlinewidth\":0,\"ticks\":\"\"}},\"marker\":{\"colorbar\":{\"outlinewidth\":0,\"ticks\":\"\"}},\"type\":\"scatter3d\"}],\"scattercarpet\":[{\"marker\":{\"colorbar\":{\"outlinewidth\":0,\"ticks\":\"\"}},\"type\":\"scattercarpet\"}],\"scattergeo\":[{\"marker\":{\"colorbar\":{\"outlinewidth\":0,\"ticks\":\"\"}},\"type\":\"scattergeo\"}],\"scattergl\":[{\"marker\":{\"colorbar\":{\"outlinewidth\":0,\"ticks\":\"\"}},\"type\":\"scattergl\"}],\"scattermapbox\":[{\"marker\":{\"colorbar\":{\"outlinewidth\":0,\"ticks\":\"\"}},\"type\":\"scattermapbox\"}],\"scatterpolar\":[{\"marker\":{\"colorbar\":{\"outlinewidth\":0,\"ticks\":\"\"}},\"type\":\"scatterpolar\"}],\"scatterpolargl\":[{\"marker\":{\"colorbar\":{\"outlinewidth\":0,\"ticks\":\"\"}},\"type\":\"scatterpolargl\"}],\"scatterternary\":[{\"marker\":{\"colorbar\":{\"outlinewidth\":0,\"ticks\":\"\"}},\"type\":\"scatterternary\"}],\"surface\":[{\"colorbar\":{\"outlinewidth\":0,\"ticks\":\"\"},\"colorscale\":[[0.0,\"#0d0887\"],[0.1111111111111111,\"#46039f\"],[0.2222222222222222,\"#7201a8\"],[0.3333333333333333,\"#9c179e\"],[0.4444444444444444,\"#bd3786\"],[0.5555555555555556,\"#d8576b\"],[0.6666666666666666,\"#ed7953\"],[0.7777777777777778,\"#fb9f3a\"],[0.8888888888888888,\"#fdca26\"],[1.0,\"#f0f921\"]],\"type\":\"surface\"}],\"table\":[{\"cells\":{\"fill\":{\"color\":\"#EBF0F8\"},\"line\":{\"color\":\"white\"}},\"header\":{\"fill\":{\"color\":\"#C8D4E3\"},\"line\":{\"color\":\"white\"}},\"type\":\"table\"}]},\"layout\":{\"annotationdefaults\":{\"arrowcolor\":\"#2a3f5f\",\"arrowhead\":0,\"arrowwidth\":1},\"autotypenumbers\":\"strict\",\"coloraxis\":{\"colorbar\":{\"outlinewidth\":0,\"ticks\":\"\"}},\"colorscale\":{\"diverging\":[[0,\"#8e0152\"],[0.1,\"#c51b7d\"],[0.2,\"#de77ae\"],[0.3,\"#f1b6da\"],[0.4,\"#fde0ef\"],[0.5,\"#f7f7f7\"],[0.6,\"#e6f5d0\"],[0.7,\"#b8e186\"],[0.8,\"#7fbc41\"],[0.9,\"#4d9221\"],[1,\"#276419\"]],\"sequential\":[[0.0,\"#0d0887\"],[0.1111111111111111,\"#46039f\"],[0.2222222222222222,\"#7201a8\"],[0.3333333333333333,\"#9c179e\"],[0.4444444444444444,\"#bd3786\"],[0.5555555555555556,\"#d8576b\"],[0.6666666666666666,\"#ed7953\"],[0.7777777777777778,\"#fb9f3a\"],[0.8888888888888888,\"#fdca26\"],[1.0,\"#f0f921\"]],\"sequentialminus\":[[0.0,\"#0d0887\"],[0.1111111111111111,\"#46039f\"],[0.2222222222222222,\"#7201a8\"],[0.3333333333333333,\"#9c179e\"],[0.4444444444444444,\"#bd3786\"],[0.5555555555555556,\"#d8576b\"],[0.6666666666666666,\"#ed7953\"],[0.7777777777777778,\"#fb9f3a\"],[0.8888888888888888,\"#fdca26\"],[1.0,\"#f0f921\"]]},\"colorway\":[\"#636efa\",\"#EF553B\",\"#00cc96\",\"#ab63fa\",\"#FFA15A\",\"#19d3f3\",\"#FF6692\",\"#B6E880\",\"#FF97FF\",\"#FECB52\"],\"font\":{\"color\":\"#2a3f5f\"},\"geo\":{\"bgcolor\":\"white\",\"lakecolor\":\"white\",\"landcolor\":\"#E5ECF6\",\"showlakes\":true,\"showland\":true,\"subunitcolor\":\"white\"},\"hoverlabel\":{\"align\":\"left\"},\"hovermode\":\"closest\",\"mapbox\":{\"style\":\"light\"},\"paper_bgcolor\":\"white\",\"plot_bgcolor\":\"#E5ECF6\",\"polar\":{\"angularaxis\":{\"gridcolor\":\"white\",\"linecolor\":\"white\",\"ticks\":\"\"},\"bgcolor\":\"#E5ECF6\",\"radialaxis\":{\"gridcolor\":\"white\",\"linecolor\":\"white\",\"ticks\":\"\"}},\"scene\":{\"xaxis\":{\"backgroundcolor\":\"#E5ECF6\",\"gridcolor\":\"white\",\"gridwidth\":2,\"linecolor\":\"white\",\"showbackground\":true,\"ticks\":\"\",\"zerolinecolor\":\"white\"},\"yaxis\":{\"backgroundcolor\":\"#E5ECF6\",\"gridcolor\":\"white\",\"gridwidth\":2,\"linecolor\":\"white\",\"showbackground\":true,\"ticks\":\"\",\"zerolinecolor\":\"white\"},\"zaxis\":{\"backgroundcolor\":\"#E5ECF6\",\"gridcolor\":\"white\",\"gridwidth\":2,\"linecolor\":\"white\",\"showbackground\":true,\"ticks\":\"\",\"zerolinecolor\":\"white\"}},\"shapedefaults\":{\"line\":{\"color\":\"#2a3f5f\"}},\"ternary\":{\"aaxis\":{\"gridcolor\":\"white\",\"linecolor\":\"white\",\"ticks\":\"\"},\"baxis\":{\"gridcolor\":\"white\",\"linecolor\":\"white\",\"ticks\":\"\"},\"bgcolor\":\"#E5ECF6\",\"caxis\":{\"gridcolor\":\"white\",\"linecolor\":\"white\",\"ticks\":\"\"}},\"title\":{\"x\":0.05},\"xaxis\":{\"automargin\":true,\"gridcolor\":\"white\",\"linecolor\":\"white\",\"ticks\":\"\",\"title\":{\"standoff\":15},\"zerolinecolor\":\"white\",\"zerolinewidth\":2},\"yaxis\":{\"automargin\":true,\"gridcolor\":\"white\",\"linecolor\":\"white\",\"ticks\":\"\",\"title\":{\"standoff\":15},\"zerolinecolor\":\"white\",\"zerolinewidth\":2}}}},                        {\"responsive\": true}                    ).then(function(){\n",
       "                            \n",
       "var gd = document.getElementById('f81222f2-99da-4a61-85e9-e03faf7527b9');\n",
       "var x = new MutationObserver(function (mutations, observer) {{\n",
       "        var display = window.getComputedStyle(gd).display;\n",
       "        if (!display || display === 'none') {{\n",
       "            console.log([gd, 'removed!']);\n",
       "            Plotly.purge(gd);\n",
       "            observer.disconnect();\n",
       "        }}\n",
       "}});\n",
       "\n",
       "// Listen for the removal of the full notebook cells\n",
       "var notebookContainer = gd.closest('#notebook-container');\n",
       "if (notebookContainer) {{\n",
       "    x.observe(notebookContainer, {childList: true});\n",
       "}}\n",
       "\n",
       "// Listen for the clearing of the current output cell\n",
       "var outputEl = gd.closest('.output');\n",
       "if (outputEl) {{\n",
       "    x.observe(outputEl, {childList: true});\n",
       "}}\n",
       "\n",
       "                        })                };                });            </script>        </div>"
      ]
     },
     "metadata": {},
     "output_type": "display_data"
    }
   ],
   "source": [
    "bubble_chart = latest[['name', 'Female Life Expectancy', 'Male Life Expectancy', \\\n",
    "                       'pop_est', 'continent']]\n",
    "bubble_chart.dropna(inplace = True)\n",
    "\n",
    "fig1 = px.scatter(bubble_chart, x='Male Life Expectancy', y='Female Life Expectancy',\n",
    "                size= 'pop_est', color='continent',\n",
    "                hover_name='name', log_x=True, size_max=50)\n",
    "df = pd.DataFrame(dict(\n",
    "    x = [50, 55, 60, 65, 70, 75, 80, 90],\n",
    "    y = [50, 55, 60, 65, 70, 75, 80, 90]\n",
    "))\n",
    "fig2 = px.line(df, x='x', y='y')\n",
    "\n",
    "layout = go.Layout(\n",
    "    title=\"Male Life Expectancy vs. Female Life Expectancy, 2019\",\n",
    "    xaxis=dict(\n",
    "        title=\"Male Life Expectancy\"\n",
    "    ),\n",
    "    yaxis=dict(\n",
    "        title=\"Female Life Expectancy\"\n",
    "    ) ) \n",
    "\n",
    "fig3 = go.Figure(data=fig1.data + fig2.data, layout=layout)\n",
    "\n",
    "fig3.show()"
   ]
  },
  {
   "cell_type": "code",
   "execution_count": null,
   "id": "f2ffe714",
   "metadata": {},
   "outputs": [],
   "source": []
  }
 ],
 "metadata": {
  "kernelspec": {
   "display_name": "Python 3 (ipykernel)",
   "language": "python",
   "name": "python3"
  },
  "language_info": {
   "codemirror_mode": {
    "name": "ipython",
    "version": 3
   },
   "file_extension": ".py",
   "mimetype": "text/x-python",
   "name": "python",
   "nbconvert_exporter": "python",
   "pygments_lexer": "ipython3",
   "version": "3.7.11"
  }
 },
 "nbformat": 4,
 "nbformat_minor": 5
}
